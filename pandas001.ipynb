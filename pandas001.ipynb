{
  "nbformat": 4,
  "nbformat_minor": 0,
  "metadata": {
    "colab": {
      "provenance": [],
      "authorship_tag": "ABX9TyNUqxUYpCEKDpoy9r0ZbOOd",
      "include_colab_link": true
    },
    "kernelspec": {
      "name": "python3",
      "display_name": "Python 3"
    },
    "language_info": {
      "name": "python"
    }
  },
  "cells": [
    {
      "cell_type": "markdown",
      "metadata": {
        "id": "view-in-github",
        "colab_type": "text"
      },
      "source": [
        "<a href=\"https://colab.research.google.com/github/FANTASY000666/FANTASY000666/blob/main/pandas001.ipynb\" target=\"_parent\"><img src=\"https://colab.research.google.com/assets/colab-badge.svg\" alt=\"Open In Colab\"/></a>"
      ]
    },
    {
      "cell_type": "code",
      "metadata": {
        "id": "ZmL0l551Iibq"
      },
      "source": [
        "import numpy as np\n",
        "import pandas as pd"
      ],
      "execution_count": 142,
      "outputs": []
    },
    {
      "cell_type": "markdown",
      "source": [
        "*creating* a dataframe (10 cells)"
      ],
      "metadata": {
        "id": "48ujKka5DlLT"
      }
    },
    {
      "cell_type": "code",
      "source": [
        "# create a 5x2 array this respresents the 10 cells to hold the data\n",
        "my_data = np.array([[5,2], [10,1], [3,2], [11,8], [3,9]])\n",
        "\n",
        "# create a python list that holds the names of the two colums\n",
        "my_column_names = ['Temperature', 'Activity']\n",
        "\n",
        "# create a dataframe containing the data and the columns titles\n",
        "my_data_frame = pd.DataFrame(data = my_data, columns = my_column_names)\n",
        "\n",
        "#print the dataframe\n",
        "print(my_data_frame)"
      ],
      "metadata": {
        "id": "gH9CThoP8NlP",
        "colab": {
          "base_uri": "https://localhost:8080/"
        },
        "outputId": "87c398c3-bbc6-4a23-f102-b19117918061"
      },
      "execution_count": 143,
      "outputs": [
        {
          "output_type": "stream",
          "name": "stdout",
          "text": [
            "   Temperature  Activity\n",
            "0            5         2\n",
            "1           10         1\n",
            "2            3         2\n",
            "3           11         8\n",
            "4            3         9\n"
          ]
        }
      ]
    },
    {
      "cell_type": "markdown",
      "source": [
        "adding a new column to the dataset"
      ],
      "metadata": {
        "id": "MFOCwqv9Ds-i"
      }
    },
    {
      "cell_type": "code",
      "source": [
        "# create a new column called adjusted(value in activity + 2) in the dataframe my_data_frame\n",
        "my_data_frame[\"Adjusted\"] = my_data_frame[\"Activity\"] + 2\n",
        "# print the new dataframe\n",
        "print(my_data_frame)"
      ],
      "metadata": {
        "colab": {
          "base_uri": "https://localhost:8080/"
        },
        "id": "7JknaiOeDx8s",
        "outputId": "4b08c0c2-d400-4dc0-ded8-8b49f813fa7f"
      },
      "execution_count": 144,
      "outputs": [
        {
          "output_type": "stream",
          "name": "stdout",
          "text": [
            "   Temperature  Activity  Adjusted\n",
            "0            5         2         4\n",
            "1           10         1         3\n",
            "2            3         2         4\n",
            "3           11         8        10\n",
            "4            3         9        11\n"
          ]
        }
      ]
    },
    {
      "cell_type": "code",
      "source": [],
      "metadata": {
        "id": "ECbt0yOXFjRJ"
      },
      "execution_count": 144,
      "outputs": []
    },
    {
      "cell_type": "code",
      "source": [
        "# create a new column called Rewired and specify its values in an list\n",
        "my_data_frame[\"Rewired\"] = (1, 2, 3, 4, 5)\n",
        "print(my_data_frame)\n"
      ],
      "metadata": {
        "colab": {
          "base_uri": "https://localhost:8080/"
        },
        "id": "56Wd92OxE8cp",
        "outputId": "0cc28390-6da2-4566-d196-4eacc453067c"
      },
      "execution_count": 145,
      "outputs": [
        {
          "output_type": "stream",
          "name": "stdout",
          "text": [
            "   Temperature  Activity  Adjusted  Rewired\n",
            "0            5         2         4        1\n",
            "1           10         1         3        2\n",
            "2            3         2         4        3\n",
            "3           11         8        10        4\n",
            "4            3         9        11        5\n"
          ]
        }
      ]
    },
    {
      "cell_type": "markdown",
      "source": [
        "Specifying a subset of a dataframe. Pandas provide multiples ways to isolate specific rows, columns, slices or cells in a DataFrame."
      ],
      "metadata": {
        "id": "njngQFYYF3j1"
      }
    },
    {
      "cell_type": "code",
      "source": [
        "print(\"Rows #0, #1, and #2:\") # this line prints a message\n",
        "print(my_data_frame.head(3), '\\n') # .head function is used to retrieve the first n rows of a dataframe this specific prints the first 3 rows of the dataframe\n",
        "print(my_data_frame.head(1), '\\n') # this prints only the first row\n",
        "print(\"Row #2:\")\n",
        "print(my_data_frame.iloc[[2]], '\\n') #The \"iloc\" function is used to select rows by their integer position.\n",
        "print(my_data_frame.iloc[[3]], '\\n') # This line of code selects and pronts row with index 3\n",
        "print(my_data_frame.iloc[[0]], '\\n') # This line of code selects and prints row with index 0\n",
        "print(\"Rows #1, #2, and #3:\")\n",
        "print(my_data_frame[1:4], '\\n') # This code prints the rows with indices 1, 2, and 3 (excluding 4) using slicing.\n",
        "print(\"Column 'Temperature':\")\n",
        "print(my_data_frame['Temperature']) # This code prints the values in the 'temperature' column of the DataFrame."
      ],
      "metadata": {
        "id": "5L9HP-39HdUC",
        "colab": {
          "base_uri": "https://localhost:8080/"
        },
        "outputId": "3f9375a0-293c-4007-e586-a61cfb9948b0"
      },
      "execution_count": 146,
      "outputs": [
        {
          "output_type": "stream",
          "name": "stdout",
          "text": [
            "Rows #0, #1, and #2:\n",
            "   Temperature  Activity  Adjusted  Rewired\n",
            "0            5         2         4        1\n",
            "1           10         1         3        2\n",
            "2            3         2         4        3 \n",
            "\n",
            "   Temperature  Activity  Adjusted  Rewired\n",
            "0            5         2         4        1 \n",
            "\n",
            "Row #2:\n",
            "   Temperature  Activity  Adjusted  Rewired\n",
            "2            3         2         4        3 \n",
            "\n",
            "   Temperature  Activity  Adjusted  Rewired\n",
            "3           11         8        10        4 \n",
            "\n",
            "   Temperature  Activity  Adjusted  Rewired\n",
            "0            5         2         4        1 \n",
            "\n",
            "Rows #1, #2, and #3:\n",
            "   Temperature  Activity  Adjusted  Rewired\n",
            "1           10         1         3        2\n",
            "2            3         2         4        3\n",
            "3           11         8        10        4 \n",
            "\n",
            "Column 'Temperature':\n",
            "0     5\n",
            "1    10\n",
            "2     3\n",
            "3    11\n",
            "4     3\n",
            "Name: Temperature, dtype: int64\n"
          ]
        }
      ]
    },
    {
      "cell_type": "markdown",
      "source": [
        "\n",
        "\n",
        ">Task 1\n",
        "\n"
      ],
      "metadata": {
        "id": "yObFG7-sYbuk"
      }
    },
    {
      "cell_type": "code",
      "source": [
        "my_column_names = ('Eleanor', 'Chidi', 'Tahani', 'Jason')\n",
        "myData = np.array([[20, 33, 70, 100], [21, 33, 43, 99], [33, 48, 99, 67]])\n",
        "MyDataFrame = pd.DataFrame(data = myData, columns = my_column_names)\n",
        "print(MyDataFrame, '\\n')\n",
        "\n",
        "print(\"Printing the value at a specific cell in a column\")\n",
        "print(MyDataFrame.at[0, 'Eleanor'], '\\n')\n",
        "\n",
        "print(\"Creating a fifth column\")\n",
        "MyDataFrame[\"Janet\"] = MyDataFrame['Tahani'] + MyDataFrame['Jason']\n",
        "print(MyDataFrame)"
      ],
      "metadata": {
        "id": "-FXUhYapSK5K",
        "colab": {
          "base_uri": "https://localhost:8080/"
        },
        "outputId": "62912381-5c59-4396-80e4-73f56f21df74"
      },
      "execution_count": 147,
      "outputs": [
        {
          "output_type": "stream",
          "name": "stdout",
          "text": [
            "   Eleanor  Chidi  Tahani  Jason\n",
            "0       20     33      70    100\n",
            "1       21     33      43     99\n",
            "2       33     48      99     67 \n",
            "\n",
            "Printing the value at a specific cell in a column\n",
            "20 \n",
            "\n",
            "Creating a fifth column\n",
            "   Eleanor  Chidi  Tahani  Jason  Janet\n",
            "0       20     33      70    100    170\n",
            "1       21     33      43     99    142\n",
            "2       33     48      99     67    166\n"
          ]
        }
      ]
    },
    {
      "cell_type": "markdown",
      "source": [
        "Duplicating a dataset\n",
        "Referencing. If you assign a DataFrame to a new variable, any change to the DataFrame or to the new variable will be reflected in the other.\n",
        "\n",
        "Copying. If you call the pd.DataFrame.copy method, you create a true independent copy. Changes to the original DataFrame or to the copy will not be reflected in the other.\n",
        "The difference is subtle, but important."
      ],
      "metadata": {
        "id": "yX8sCYVjSJYU"
      }
    },
    {
      "cell_type": "code",
      "source": [],
      "metadata": {
        "id": "6_Nu6gEYYqco"
      },
      "execution_count": null,
      "outputs": []
    }
  ]
}