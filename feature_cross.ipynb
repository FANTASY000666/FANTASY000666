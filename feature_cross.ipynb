{
  "nbformat": 4,
  "nbformat_minor": 0,
  "metadata": {
    "colab": {
      "provenance": [],
      "authorship_tag": "ABX9TyMy4pbS0BhLNB8ma7vDO8a1",
      "include_colab_link": true
    },
    "kernelspec": {
      "name": "python3",
      "display_name": "Python 3"
    },
    "language_info": {
      "name": "python"
    }
  },
  "cells": [
    {
      "cell_type": "markdown",
      "metadata": {
        "id": "view-in-github",
        "colab_type": "text"
      },
      "source": [
        "<a href=\"https://colab.research.google.com/github/FANTASY000666/FANTASY000666/blob/main/feature_cross.ipynb\" target=\"_parent\"><img src=\"https://colab.research.google.com/assets/colab-badge.svg\" alt=\"Open In Colab\"/></a>"
      ]
    },
    {
      "cell_type": "code",
      "execution_count": 60,
      "metadata": {
        "id": "sGxFLnLB2RCe",
        "colab": {
          "base_uri": "https://localhost:8080/"
        },
        "outputId": "f0035051-c4b6-4b2b-dece-9b6cd1601b66"
      },
      "outputs": [
        {
          "output_type": "stream",
          "name": "stdout",
          "text": [
            "Imported the modules.\n"
          ]
        }
      ],
      "source": [
        "3#@title Load the imports\n",
        "import numpy as np\n",
        "import pandas as pd\n",
        "import tensorflow as tf\n",
        "# The layers module provides a variety of pre-built layers that you can use to\n",
        "# construct your neural network architecture.\n",
        "from tensorflow.keras import layers\n",
        "\n",
        "# The pyplot module provides a MATLAB-like plotting framework in Python and is\n",
        "# commonly used for creating various types of plots and visualizations.\n",
        "from matplotlib import pyplot as plt\n",
        "\n",
        "#The following lines adjust the granularity of reporting.\n",
        "pd.options.display.max_rows = 10\n",
        "pd.options.display.float_format = \"{:.1f}\".format\n",
        "\n",
        "# is used to set the default floating-point\n",
        "# precision for the Keras backend in TensorFlow\n",
        "tf.keras.backend.set_floatx('float32')\n",
        "\n",
        "print(\"Imported the modules.\")\n",
        "\n"
      ]
    },
    {
      "cell_type": "markdown",
      "source": [
        "Load, Scale and shuffle the examples:"
      ],
      "metadata": {
        "id": "zqC-QDhjhfAz"
      }
    },
    {
      "cell_type": "code",
      "source": [
        "# Load the dataset to train and test the model\n",
        "train_df = pd.read_csv(\"https://download.mlcc.google.com/mledu-datasets/california_housing_train.csv\")\n",
        "test_df = pd.read_csv(\"https://download.mlcc.google.com/mledu-datasets/california_housing_test.csv\")\n",
        "\n",
        "# scale the label to a more human friendly range\n",
        "scale_factor = 1000.0\n",
        "# Scale the training set's label.\n",
        "train_df[\"median_house_value\"] /= scale_factor\n",
        "\n",
        "# Scale the test set's label\n",
        "test_df[\"median_house_value\"] /= scale_factor\n",
        "\n",
        "# shuffle the examples\n",
        "# the line of code presents a technique to randomize the order of rows in the train_df\n",
        "train_df = train_df.reindex(np.random.permutation(train_df.index))\n"
      ],
      "metadata": {
        "id": "BL1Xu_8shyPl"
      },
      "execution_count": 61,
      "outputs": []
    },
    {
      "cell_type": "markdown",
      "source": [
        "Representing latitude and longitude and as floating_point values\n",
        "In contrast with the previous exercises this exercise trains on two features using input layers\n",
        "\n",
        "A neighborhood's location is typically the most important feature in determining a house's value\n",
        "\n",
        "The California Housing dataset provides two features, latitude and longitude that identify each neighborhood's location.\n",
        "\n",
        "Two tf.keras.Input layers, one to represent latitude and the other to represent longitude both as floating-point values."
      ],
      "metadata": {
        "id": "VNJbUu_li7Y0"
      }
    },
    {
      "cell_type": "code",
      "source": [
        "# Keras Input tensors of float values.\n",
        "# shape=(1,) means 1D\n",
        "inputs = {\n",
        "    'latitude':\n",
        "    tf.keras.layers.Input(shape=(1,), dtype=tf.float32,\n",
        "                          name='latitude'),\n",
        "    'longitude':\n",
        "    tf.keras.layers.Input(shape=(1,), dtype=tf.float32,\n",
        "                          name='longitude')\n",
        "}\n",
        "\n",
        "print(train_df.head(3))"
      ],
      "metadata": {
        "colab": {
          "base_uri": "https://localhost:8080/"
        },
        "id": "ravnKZ2llWi7",
        "outputId": "7dc52af7-7d7c-4389-8374-c6b076a1aa75"
      },
      "execution_count": 62,
      "outputs": [
        {
          "output_type": "stream",
          "name": "stdout",
          "text": [
            "      longitude  latitude  housing_median_age  total_rooms  total_bedrooms  \\\n",
            "4334     -118.0      33.7                 3.0        945.0           115.0   \n",
            "3975     -118.0      33.8                22.0       2520.0           556.0   \n",
            "6237     -118.2      33.8                22.0       7368.0          1367.0   \n",
            "\n",
            "      population  households  median_income  median_house_value  \n",
            "4334       337.0       123.0           11.5               500.0  \n",
            "3975      2126.0       527.0            3.8               193.9  \n",
            "6237      4721.0      1342.0            4.8               213.1  \n"
          ]
        }
      ]
    },
    {
      "cell_type": "code",
      "source": [
        "#@title Define functions that create and train a model and a plotting function\n",
        "# function that creates a model\n",
        "def create_model(my_inputs, my_outputs, my_learning_rate):\n",
        "\n",
        "  # cretaing a model in tensorflow API\n",
        "  model = tf.keras.Model(inputs=my_inputs, outputs=my_outputs)\n",
        "\n",
        "  # Construct the layers into a model that TensorFlow can execute.\n",
        "  model.compile(optimizer=tf.keras.optimizers.experimental.RMSprop(\n",
        "      learning_rate=my_learning_rate),\n",
        "      loss=\"mean_squared_error\",\n",
        "      metrics=[tf.keras.metrics.RootMeanSquaredError()])\n",
        "\n",
        "  return model\n",
        "\n",
        "\n",
        "def train_model(model, dataset, epochs, batch_size, label_name):\n",
        "  \"\"\"Feed a dataset into the model in order to train it.\"\"\"\n",
        "\n",
        "  # Feature will be a dictionary where\n",
        "  # each key corresponds to a feature name\n",
        "  # Each value is a numpy array containing the feature values\n",
        "  features = {name:np.array(value) for name, value in dataset.items()}\n",
        "\n",
        "  # the label is created by popping the label values of the features\n",
        "  # dictionary and\n",
        "  # converting them to an array\n",
        "  label = np.array(features.pop(label_name))\n",
        "\n",
        "  # fit method used to train the data and return variables stored in history\n",
        "  # shuffle=True indicates that the training data\n",
        "  # should be shuffled before each epoch\n",
        "\n",
        "  history = model.fit(x=features, y=label, batch_size=batch_size,\n",
        "                      epochs=epochs, shuffle=True)\n",
        "\n",
        "  # the list of epochs is stored separately from the rest of history\n",
        "  epochs = history.epoch\n",
        "\n",
        "  # isolate the mean absolute error for each epoch.\n",
        "  hist = pd.DataFrame(history.history)\n",
        "  rmse = hist[\"root_mean_squared_error\"]\n",
        "\n",
        "  return epochs, rmse\n",
        "\n",
        "def plot_the_loss_curve(epochs, rmse):\n",
        "  \"\"\" Plot the curve of loss Vs. epoch \"\"\"\n",
        "\n",
        "  plt.figure()\n",
        "  plt.xlabel(\"Epoch\")\n",
        "  plt.ylabel(\"Root Mean Squared Error\")\n",
        "\n",
        "  plt.plot(epochs, rmse, label=\"LOSS\")\n",
        "  plt.legend()\n",
        "  plt.ylim([rmse.min()*0.94, rmse.max()*1.05])\n",
        "  plt.show()\n",
        "\n",
        "print(\"Defined the create_model, train_model and plot_the_loss_curve functions. \")\n",
        "\n",
        "\n",
        "\n"
      ],
      "metadata": {
        "colab": {
          "base_uri": "https://localhost:8080/"
        },
        "id": "lnEfpkBUm84x",
        "outputId": "0f7e52f7-fbc6-4123-f071-68e1cfae5627"
      },
      "execution_count": 63,
      "outputs": [
        {
          "output_type": "stream",
          "name": "stdout",
          "text": [
            "Defined the create_model, train_model and plot_the_loss_curve functions. \n"
          ]
        }
      ]
    },
    {
      "cell_type": "markdown",
      "source": [
        "Train the model with floating-point representations\n",
        "The following code cell calls the functions you just created to train, plot, and evaluate a model."
      ],
      "metadata": {
        "id": "Vz7AFvFHyxVY"
      }
    },
    {
      "cell_type": "code",
      "source": [
        "# The following are the hyperparameters\n",
        "learning_rate = 0.05\n",
        "epochs = 30\n",
        "batch_size = 100\n",
        "label_name = 'median_house_value'\n",
        "\n",
        "# using the concatenate layer from TensorFlow Keras to\n",
        "# merge multiple inputs tennsors along a specified axis(default axis = -1)\n",
        "# The two Input layers are concatenated so they can be passed as a single\n",
        "# tensor to a Dense layer.\n",
        "\n",
        "preprocessing_layer = tf.keras.layers.Concatenate()(inputs.values())\n",
        "\n",
        "#preprocessing_layer will be a tensor resulting from the\n",
        "#concatenation of all input tensors specified in the inputs dictionary.\n",
        "\n",
        "# creating a dense layer in a neural network using TensorFlow's Keras API.\n",
        "# with preprocessing_layer as input to the dense layer\n",
        "dense_output = layers.Dense(units=1, name='dense_layer')(preprocessing_layer)\n",
        "\n",
        "# defining the outputs\n",
        "outputs = {\n",
        "    'dense_output': dense_output\n",
        "}\n",
        "\n",
        "# create and compile the model's topography\n",
        "my_model = create_model(inputs, outputs, learning_rate)\n",
        "\n",
        "# To view a PNG of this model's layers, uncomment the call to\n",
        "# `tf.keras.utils.plot_model` below. After running this code cell, click\n",
        "# the file folder on the left, then the `my_model.png` file.\n",
        "# tf.keras.utils.plot_model(my_model, \"my_model.png\", show_shapes=True)\n",
        "\n",
        "# Train the model on the training set.\n",
        "epochs, rmse = train_model(my_model, train_df, epochs, batch_size, label_name)\n",
        "\n",
        "# print out the models summary using summary method\n",
        "my_model.summary(expand_nested=True)\n",
        "\n",
        "# plotting the loss curve\n",
        "plot_the_loss_curve(epochs, rmse)\n",
        "\n",
        "\n",
        "print(\"\\n: Evaluate the new model against the test set:\")\n",
        "# prepearing test data(test_features and test_label) then\n",
        "# testing your model on the test_set using the evaluate method in TF.Keras\n",
        "test_features = {name:np.array(value) for name, value in test_df.items()}\n",
        "test_label = np.array(test_features.pop(label_name))\n",
        "my_model.evaluate(x=test_features, y=test_label, batch_size=batch_size)\n"
      ],
      "metadata": {
        "id": "K7c5feDgzHlr",
        "colab": {
          "base_uri": "https://localhost:8080/",
          "height": 1000
        },
        "outputId": "b5a6d940-9abe-4f5f-fccf-316ad7bd6722"
      },
      "execution_count": 64,
      "outputs": [
        {
          "output_type": "stream",
          "name": "stdout",
          "text": [
            "Epoch 1/30\n"
          ]
        },
        {
          "output_type": "stream",
          "name": "stderr",
          "text": [
            "/usr/local/lib/python3.10/dist-packages/keras/src/engine/functional.py:642: UserWarning: Input dict contained keys ['housing_median_age', 'total_rooms', 'total_bedrooms', 'population', 'households', 'median_income'] which did not match any model input. They will be ignored by the model.\n",
            "  inputs = self._flatten_to_reference_inputs(inputs)\n"
          ]
        },
        {
          "output_type": "stream",
          "name": "stdout",
          "text": [
            "170/170 [==============================] - 1s 2ms/step - loss: 20552.4121 - root_mean_squared_error: 143.3611\n",
            "Epoch 2/30\n",
            "170/170 [==============================] - 0s 2ms/step - loss: 13666.9395 - root_mean_squared_error: 116.9057\n",
            "Epoch 3/30\n",
            "170/170 [==============================] - 0s 2ms/step - loss: 13595.6924 - root_mean_squared_error: 116.6006\n",
            "Epoch 4/30\n",
            "170/170 [==============================] - 0s 2ms/step - loss: 13531.3545 - root_mean_squared_error: 116.3243\n",
            "Epoch 5/30\n",
            "170/170 [==============================] - 0s 2ms/step - loss: 13506.4346 - root_mean_squared_error: 116.2172\n",
            "Epoch 6/30\n",
            "170/170 [==============================] - 0s 2ms/step - loss: 13452.0010 - root_mean_squared_error: 115.9828\n",
            "Epoch 7/30\n",
            "170/170 [==============================] - 0s 2ms/step - loss: 13399.9551 - root_mean_squared_error: 115.7582\n",
            "Epoch 8/30\n",
            "170/170 [==============================] - 0s 3ms/step - loss: 13358.4219 - root_mean_squared_error: 115.5786\n",
            "Epoch 9/30\n",
            "170/170 [==============================] - 0s 2ms/step - loss: 13309.1689 - root_mean_squared_error: 115.3654\n",
            "Epoch 10/30\n",
            "170/170 [==============================] - 0s 3ms/step - loss: 13273.1270 - root_mean_squared_error: 115.2091\n",
            "Epoch 11/30\n",
            "170/170 [==============================] - 0s 2ms/step - loss: 13232.9600 - root_mean_squared_error: 115.0346\n",
            "Epoch 12/30\n",
            "170/170 [==============================] - 0s 2ms/step - loss: 13199.2490 - root_mean_squared_error: 114.8880\n",
            "Epoch 13/30\n",
            "170/170 [==============================] - 0s 2ms/step - loss: 13181.6182 - root_mean_squared_error: 114.8112\n",
            "Epoch 14/30\n",
            "170/170 [==============================] - 0s 2ms/step - loss: 13137.1582 - root_mean_squared_error: 114.6174\n",
            "Epoch 15/30\n",
            "170/170 [==============================] - 0s 2ms/step - loss: 13125.8057 - root_mean_squared_error: 114.5679\n",
            "Epoch 16/30\n",
            "170/170 [==============================] - 0s 2ms/step - loss: 13096.0391 - root_mean_squared_error: 114.4379\n",
            "Epoch 17/30\n",
            "170/170 [==============================] - 0s 2ms/step - loss: 13062.3027 - root_mean_squared_error: 114.2904\n",
            "Epoch 18/30\n",
            "170/170 [==============================] - 0s 2ms/step - loss: 13039.6465 - root_mean_squared_error: 114.1913\n",
            "Epoch 19/30\n",
            "170/170 [==============================] - 0s 2ms/step - loss: 13019.0020 - root_mean_squared_error: 114.1008\n",
            "Epoch 20/30\n",
            "170/170 [==============================] - 0s 2ms/step - loss: 13001.4062 - root_mean_squared_error: 114.0237\n",
            "Epoch 21/30\n",
            "170/170 [==============================] - 0s 2ms/step - loss: 12983.9697 - root_mean_squared_error: 113.9472\n",
            "Epoch 22/30\n",
            "170/170 [==============================] - 0s 2ms/step - loss: 12966.9873 - root_mean_squared_error: 113.8727\n",
            "Epoch 23/30\n",
            "170/170 [==============================] - 0s 2ms/step - loss: 12949.1396 - root_mean_squared_error: 113.7943\n",
            "Epoch 24/30\n",
            "170/170 [==============================] - 0s 2ms/step - loss: 12942.9502 - root_mean_squared_error: 113.7671\n",
            "Epoch 25/30\n",
            "170/170 [==============================] - 0s 2ms/step - loss: 12926.3008 - root_mean_squared_error: 113.6939\n",
            "Epoch 26/30\n",
            "170/170 [==============================] - 1s 4ms/step - loss: 12922.7891 - root_mean_squared_error: 113.6784\n",
            "Epoch 27/30\n",
            "170/170 [==============================] - 1s 3ms/step - loss: 12890.1709 - root_mean_squared_error: 113.5349\n",
            "Epoch 28/30\n",
            "170/170 [==============================] - 1s 3ms/step - loss: 12894.3008 - root_mean_squared_error: 113.5531\n",
            "Epoch 29/30\n",
            "170/170 [==============================] - 1s 3ms/step - loss: 12882.9160 - root_mean_squared_error: 113.5029\n",
            "Epoch 30/30\n",
            "170/170 [==============================] - 0s 2ms/step - loss: 12873.0449 - root_mean_squared_error: 113.4594\n",
            "Model: \"model_14\"\n",
            "__________________________________________________________________________________________________\n",
            " Layer (type)                Output Shape                 Param #   Connected to                  \n",
            "==================================================================================================\n",
            " latitude (InputLayer)       [(None, 1)]                  0         []                            \n",
            "                                                                                                  \n",
            " longitude (InputLayer)      [(None, 1)]                  0         []                            \n",
            "                                                                                                  \n",
            " concatenate_8 (Concatenate  (None, 2)                    0         ['latitude[0][0]',            \n",
            " )                                                                   'longitude[0][0]']           \n",
            "                                                                                                  \n",
            " dense_layer (Dense)         (None, 1)                    3         ['concatenate_8[0][0]']       \n",
            "                                                                                                  \n",
            "==================================================================================================\n",
            "Total params: 3 (12.00 Byte)\n",
            "Trainable params: 3 (12.00 Byte)\n",
            "Non-trainable params: 0 (0.00 Byte)\n",
            "__________________________________________________________________________________________________\n"
          ]
        },
        {
          "output_type": "display_data",
          "data": {
            "text/plain": [
              "<Figure size 640x480 with 1 Axes>"
            ],
            "image/png": "[encoded data removed]"
          },
          "metadata": {}
        },
        {
          "output_type": "stream",
          "name": "stdout",
          "text": [
            "\n",
            ": Evaluate the new model against the test set:\n",
            "30/30 [==============================] - 0s 2ms/step - loss: 12207.5176 - root_mean_squared_error: 110.4876\n"
          ]
        },
        {
          "output_type": "stream",
          "name": "stderr",
          "text": [
            "/usr/local/lib/python3.10/dist-packages/keras/src/engine/functional.py:642: UserWarning: Input dict contained keys ['housing_median_age', 'total_rooms', 'total_bedrooms', 'population', 'households', 'median_income'] which did not match any model input. They will be ignored by the model.\n",
            "  inputs = self._flatten_to_reference_inputs(inputs)\n"
          ]
        },
        {
          "output_type": "execute_result",
          "data": {
            "text/plain": [
              "[12207.517578125, 110.48763275146484]"
            ]
          },
          "metadata": {},
          "execution_count": 64
        }
      ]
    },
    {
      "cell_type": "markdown",
      "source": [
        "Training the model with float representation didnt have much effect on the accuracy of the model we now chose to train the model using the bucket representation\n",
        "\n",
        "Represent latitude and longitude in buckets\n",
        "The model will learn a seperate weight for each bucket.\n",
        "We are going to create 20 buckets\n",
        "- 10 buckets for latitude\n",
        "- 10 buckets for longitude\n",
        "\n"
      ],
      "metadata": {
        "id": "LFQfpDi4DqG8"
      }
    },
    {
      "cell_type": "code",
      "source": [
        "resolution_in_degrees = 0.04\n",
        "\n",
        "# create a list of numbers representing the bucket boundaries for latitude\n",
        "# based on the max and min values in the \"latitude\" column of train_df\n",
        "# and stores it as a list\n",
        "latitude_boundaries = list(np.arange(int(min(train_df['latitude'])),\n",
        "                                     int(max(train_df['latitude'])),\n",
        "                                     resolution_in_degrees))\n",
        "\n",
        "# print latitude boundaries as a string\n",
        "print(\"latitude boundaries: \" + str(latitude_boundaries))\n",
        "# print the number of buckets created\n",
        "print(\"Number of buckets: \" + str(len(latitude_boundaries)))\n",
        "\n",
        "# Create a Discretization layer to separate the latitude data into buckets.\n",
        "# Discretization layer in TensorFlow is suitable for converting continuous\n",
        "# features into discrete ones by mapping input values to discrete bins.\n",
        "latitude = tf.keras.layers.Discretization(\n",
        "    bin_boundaries=latitude_boundaries, # defines boundaries for discretization\n",
        "    name='discretization_latitude')(inputs.get('latitude'))\n",
        "\n",
        "# number of categories is the lenght of latitude_boundaries +1(number of bins + 1)\n",
        "# to account for the out of vocabulary token\n",
        "# perfoming category encoding: converting categorical features\n",
        "# into one hot encoded representation\n",
        "latitude = tf.keras.layers.CategoryEncoding(\n",
        "    num_tokens=len(latitude_boundaries) + 1,\n",
        "    output_mode='one_hot',\n",
        "    name='category_encoding_latitude')(latitude)\n",
        "\n",
        "print(train_df['latitude'])\n",
        "print()\n",
        "\n",
        "\n",
        "\n",
        "# now do the same for longitude column\n",
        "# Create a list of numbers representing the bucket boundaries for longitude.\n",
        "longitude_boundaries = list(np.arange(int(min(train_df['longitude'])),\n",
        "                                      int(max(train_df['longitude'])),\n",
        "                                      resolution_in_degrees))\n",
        "\n",
        "# print longitude boundaries as a string\n",
        "print(\"longitude boundaries: \" + str(longitude_boundaries))\n",
        "# print the number of buckets created\n",
        "print(\"Number of buckets: \" + str(len(longitude_boundaries)))\n",
        "\n",
        "# create a discretization layer to separate the longitude into buckets.\n",
        "longitude = tf.keras.layers.Discretization(\n",
        "    bin_boundaries = latitude_boundaries, # defines boundaries for discretization\n",
        "    name='discretization_longitude')(inputs.get('longitude'))\n",
        "\n",
        "# number of categories is the lenght of latitude_boundaries +1(number of bins + 1)\n",
        "# perfom category one-hot encoding\n",
        "longitude = tf.keras.layers.CategoryEncoding(\n",
        "    num_tokens = len(longitude_boundaries) + 1,\n",
        "    output_mode = 'one_hot',\n",
        "    name='category_encoding_longitude')(longitude)\n",
        "print(train_df['longitude'])"
      ],
      "metadata": {
        "colab": {
          "base_uri": "https://localhost:8080/"
        },
        "id": "6m4edRNII1le",
        "outputId": "d43852b9-2d94-4775-bbb2-87f80a26fd63"
      },
      "execution_count": 65,
      "outputs": [
        {
          "output_type": "stream",
          "name": "stdout",
          "text": [
            "latitude boundaries: [32.0, 33.0, 34.0, 35.0, 36.0, 37.0, 38.0, 39.0, 40.0]\n",
            "Number of buckets: 9\n",
            "4334    33.7\n",
            "3975    33.8\n",
            "6237    33.8\n",
            "4535    34.1\n",
            "10395   39.4\n",
            "        ... \n",
            "1753    32.8\n",
            "5171    34.0\n",
            "13148   37.5\n",
            "5205    33.8\n",
            "4013    34.0\n",
            "Name: latitude, Length: 17000, dtype: float64\n",
            "\n",
            "longitude boundaries: [-124.0, -123.0, -122.0, -121.0, -120.0, -119.0, -118.0, -117.0, -116.0, -115.0]\n",
            "Number of buckets: 10\n",
            "4334    -118.0\n",
            "3975    -118.0\n",
            "6237    -118.2\n",
            "4535    -118.0\n",
            "10395   -120.2\n",
            "         ...  \n",
            "1753    -117.2\n",
            "5171    -118.1\n",
            "13148   -121.9\n",
            "5205    -118.1\n",
            "4013    -118.0\n",
            "Name: longitude, Length: 17000, dtype: float64\n"
          ]
        }
      ]
    },
    {
      "cell_type": "markdown",
      "source": [
        "Train the model with bucket representation\n"
      ],
      "metadata": {
        "id": "yRTVTlD2WXn0"
      }
    },
    {
      "cell_type": "code",
      "execution_count": 66,
      "metadata": {
        "id": "UnDrghxBzLvD",
        "outputId": "5d90071e-d2e7-4d6e-9a97-82912a85f8d9",
        "colab": {
          "base_uri": "https://localhost:8080/",
          "height": 1000
        }
      },
      "outputs": [
        {
          "output_type": "stream",
          "name": "stdout",
          "text": [
            "Epoch 1/35\n"
          ]
        },
        {
          "output_type": "stream",
          "name": "stderr",
          "text": [
            "/usr/local/lib/python3.10/dist-packages/keras/src/engine/functional.py:642: UserWarning: Input dict contained keys ['housing_median_age', 'total_rooms', 'total_bedrooms', 'population', 'households', 'median_income'] which did not match any model input. They will be ignored by the model.\n",
            "  inputs = self._flatten_to_reference_inputs(inputs)\n"
          ]
        },
        {
          "output_type": "stream",
          "name": "stdout",
          "text": [
            "170/170 [==============================] - 1s 2ms/step - loss: 12855.8232 - root_mean_squared_error: 113.3835\n",
            "Epoch 2/35\n",
            "170/170 [==============================] - 0s 2ms/step - loss: 12854.9180 - root_mean_squared_error: 113.3795\n",
            "Epoch 3/35\n",
            "170/170 [==============================] - 0s 2ms/step - loss: 12832.9385 - root_mean_squared_error: 113.2826\n",
            "Epoch 4/35\n",
            "170/170 [==============================] - 0s 2ms/step - loss: 12831.7344 - root_mean_squared_error: 113.2772\n",
            "Epoch 5/35\n",
            "170/170 [==============================] - 1s 4ms/step - loss: 12810.6387 - root_mean_squared_error: 113.1841\n",
            "Epoch 6/35\n",
            "170/170 [==============================] - 1s 5ms/step - loss: 12812.4238 - root_mean_squared_error: 113.1920\n",
            "Epoch 7/35\n",
            "170/170 [==============================] - 1s 4ms/step - loss: 12804.9375 - root_mean_squared_error: 113.1589\n",
            "Epoch 8/35\n",
            "170/170 [==============================] - 1s 4ms/step - loss: 12798.1895 - root_mean_squared_error: 113.1291\n",
            "Epoch 9/35\n",
            "170/170 [==============================] - 0s 3ms/step - loss: 12805.3418 - root_mean_squared_error: 113.1607\n",
            "Epoch 10/35\n",
            "170/170 [==============================] - 1s 4ms/step - loss: 12789.0684 - root_mean_squared_error: 113.0888\n",
            "Epoch 11/35\n",
            "170/170 [==============================] - 1s 3ms/step - loss: 12794.7070 - root_mean_squared_error: 113.1137\n",
            "Epoch 12/35\n",
            "170/170 [==============================] - 1s 4ms/step - loss: 12784.8516 - root_mean_squared_error: 113.0701\n",
            "Epoch 13/35\n",
            "170/170 [==============================] - 1s 4ms/step - loss: 12777.2822 - root_mean_squared_error: 113.0366\n",
            "Epoch 14/35\n",
            "170/170 [==============================] - 1s 4ms/step - loss: 12780.7461 - root_mean_squared_error: 113.0520\n",
            "Epoch 15/35\n",
            "170/170 [==============================] - 1s 4ms/step - loss: 12774.7246 - root_mean_squared_error: 113.0253\n",
            "Epoch 16/35\n",
            "170/170 [==============================] - 1s 7ms/step - loss: 12780.5117 - root_mean_squared_error: 113.0509\n",
            "Epoch 17/35\n",
            "170/170 [==============================] - 1s 8ms/step - loss: 12772.4102 - root_mean_squared_error: 113.0151\n",
            "Epoch 18/35\n",
            "170/170 [==============================] - 1s 6ms/step - loss: 12755.6680 - root_mean_squared_error: 112.9410\n",
            "Epoch 19/35\n",
            "170/170 [==============================] - 1s 4ms/step - loss: 12768.0332 - root_mean_squared_error: 112.9957\n",
            "Epoch 20/35\n",
            "170/170 [==============================] - 1s 6ms/step - loss: 12765.1846 - root_mean_squared_error: 112.9831\n",
            "Epoch 21/35\n",
            "170/170 [==============================] - 1s 4ms/step - loss: 12765.0020 - root_mean_squared_error: 112.9823\n",
            "Epoch 22/35\n",
            "170/170 [==============================] - 1s 4ms/step - loss: 12749.1162 - root_mean_squared_error: 112.9120\n",
            "Epoch 23/35\n",
            "170/170 [==============================] - 1s 6ms/step - loss: 12753.8818 - root_mean_squared_error: 112.9331\n",
            "Epoch 24/35\n",
            "170/170 [==============================] - 1s 6ms/step - loss: 12739.9023 - root_mean_squared_error: 112.8712\n",
            "Epoch 25/35\n",
            "170/170 [==============================] - 1s 6ms/step - loss: 12743.8105 - root_mean_squared_error: 112.8885\n",
            "Epoch 26/35\n",
            "170/170 [==============================] - 1s 4ms/step - loss: 12738.6875 - root_mean_squared_error: 112.8658\n",
            "Epoch 27/35\n",
            "170/170 [==============================] - 1s 5ms/step - loss: 12745.7656 - root_mean_squared_error: 112.8971\n",
            "Epoch 28/35\n",
            "170/170 [==============================] - 1s 6ms/step - loss: 12754.1904 - root_mean_squared_error: 112.9344\n",
            "Epoch 29/35\n",
            "170/170 [==============================] - 1s 5ms/step - loss: 12744.4775 - root_mean_squared_error: 112.8914\n",
            "Epoch 30/35\n",
            "170/170 [==============================] - 2s 11ms/step - loss: 12733.1562 - root_mean_squared_error: 112.8413\n",
            "Epoch 31/35\n",
            "170/170 [==============================] - 1s 3ms/step - loss: 12737.5830 - root_mean_squared_error: 112.8609\n",
            "Epoch 32/35\n",
            "170/170 [==============================] - 0s 2ms/step - loss: 12732.0801 - root_mean_squared_error: 112.8365\n",
            "Epoch 33/35\n",
            "170/170 [==============================] - 0s 2ms/step - loss: 12746.7012 - root_mean_squared_error: 112.9013\n",
            "Epoch 34/35\n",
            "170/170 [==============================] - 0s 2ms/step - loss: 12737.6016 - root_mean_squared_error: 112.8610\n",
            "Epoch 35/35\n",
            "170/170 [==============================] - 0s 2ms/step - loss: 12718.2891 - root_mean_squared_error: 112.7754\n",
            "Model: \"model_15\"\n",
            "__________________________________________________________________________________________________\n",
            " Layer (type)                Output Shape                 Param #   Connected to                  \n",
            "==================================================================================================\n",
            " latitude (InputLayer)       [(None, 1)]                  0         []                            \n",
            "                                                                                                  \n",
            " longitude (InputLayer)      [(None, 1)]                  0         []                            \n",
            "                                                                                                  \n",
            " concatenate_8 (Concatenate  (None, 2)                    0         ['latitude[0][0]',            \n",
            " )                                                                   'longitude[0][0]']           \n",
            "                                                                                                  \n",
            " dense_layer (Dense)         (None, 1)                    3         ['concatenate_8[0][0]']       \n",
            "                                                                                                  \n",
            "==================================================================================================\n",
            "Total params: 3 (12.00 Byte)\n",
            "Trainable params: 3 (12.00 Byte)\n",
            "Non-trainable params: 0 (0.00 Byte)\n",
            "__________________________________________________________________________________________________\n"
          ]
        },
        {
          "output_type": "display_data",
          "data": {
            "text/plain": [
              "<Figure size 640x480 with 1 Axes>"
            ],
            "image/png": "[encoded data removed]"
          },
          "metadata": {}
        },
        {
          "output_type": "stream",
          "name": "stdout",
          "text": [
            "\n",
            ": Evaluate the new model against the test set:\n",
            "30/30 [==============================] - 0s 2ms/step - loss: 12520.0547 - root_mean_squared_error: 111.8931\n"
          ]
        },
        {
          "output_type": "stream",
          "name": "stderr",
          "text": [
            "/usr/local/lib/python3.10/dist-packages/keras/src/engine/functional.py:642: UserWarning: Input dict contained keys ['housing_median_age', 'total_rooms', 'total_bedrooms', 'population', 'households', 'median_income'] which did not match any model input. They will be ignored by the model.\n",
            "  inputs = self._flatten_to_reference_inputs(inputs)\n"
          ]
        },
        {
          "output_type": "execute_result",
          "data": {
            "text/plain": [
              "[12520.0546875, 111.89305114746094]"
            ]
          },
          "metadata": {},
          "execution_count": 66
        }
      ],
      "source": [
        "# The following variables are the hyperparameters.\n",
        "learning_rate = 0.04\n",
        "epochs = 35\n",
        "\n",
        "# Build the model.\n",
        "my_model = create_model(inputs, outputs, learning_rate)\n",
        "\n",
        "# Train the model on the training set.\n",
        "epochs, rmse = train_model(my_model, train_df, epochs, batch_size, label_name)\n",
        "\n",
        "# Print out the model summary.\n",
        "my_model.summary(expand_nested=True)\n",
        "\n",
        "plot_the_loss_curve(epochs, rmse)\n",
        "\n",
        "print(\"\\n: Evaluate the new model against the test set:\")\n",
        "my_model.evaluate(x=test_features, y=test_label, batch_size=batch_size)"
      ]
    },
    {
      "cell_type": "markdown",
      "source": [
        "Representing the location features in buckets outperfoms representing them as floating_points we can go further and representing location as feature cross\n",
        "\n",
        "The previous represent location as 1D here we will represent location as a two-dimensional feature cross. That is, you'll cross the 10 or so latitude buckets with the 10 or so longitude buckets to create a grid of 100 cells.\n",
        "\n",
        "The model will learn separate weights for each of the cells.\n"
      ],
      "metadata": {
        "id": "puze2o-kjJsK"
      }
    },
    {
      "cell_type": "markdown",
      "source": [
        "**Represent Location as feature cross**\n",
        "\n",
        "The following code cell represents location as a feature cross. That is, the following code cell first creates buckets and then crosses the latitude and longitude features using a HashedCrossing layer.\n",
        "\n"
      ],
      "metadata": {
        "id": "HVVDrISEkXx2"
      }
    },
    {
      "cell_type": "code",
      "source": [
        "resolution_in_degrees = 0.4\n",
        "\n",
        "# Create a list of numbers representing the bucket boundaries for latitude.\n",
        "latitude_boundaries = list(np.arange(int(min(train_df['latitude'])),\n",
        "                                     int(max(train_df['latitude'])),\n",
        "                                     resolution_in_degrees))\n",
        "\n",
        "# Create a Discretization layer to separate the latitude data into buckets.\n",
        "latitude = tf.keras.layers.Discretization(\n",
        "    bin_boundaries=latitude_boundaries,\n",
        "    name='discretization_latitude')(inputs.get('latitude'))\n",
        "\n",
        "# Create a list of numbers representing the bucket boundaries for longitude.\n",
        "longitude_boundaries = list(np.arange(int(min(train_df['longitude'])),\n",
        "                                      int(max(train_df['longitude'])),\n",
        "                                      resolution_in_degrees))\n",
        "\n",
        "# Create a Discretization layer to separate the longitude data into buckets.\n",
        "longitude = tf.keras.layers.Discretization(\n",
        "    bin_boundaries=longitude_boundaries,\n",
        "    name='discretization_longitude')(inputs.get('longitude'))\n",
        "\n",
        "# Cross the latitude and longitude features into a single one-hot vector.\n",
        "# perfom the crossing using the HashedCrossing layer in tf.Keras\n",
        "feature_cross = tf.keras.layers.HashedCrossing(\n",
        "    num_bins=len(latitude_boundaries) * len(longitude_boundaries),\n",
        "    output_mode='one_hot',\n",
        "    name='cross_latitude_longitude')([latitude, longitude])\n",
        "\n",
        "# adding a dense layer to the model\n",
        "# connected to a feature cross named 'feature_cross'\n",
        "dense_output = layers.Dense(units=1, name='dense_layer')(feature_cross)\n",
        "\n",
        "# Define an output dictionary we'll send to the model constructor\n",
        "outputs = {\n",
        "  'dense_output': dense_output\n",
        "}"
      ],
      "metadata": {
        "id": "pmg6InHnkwCN"
      },
      "execution_count": 67,
      "outputs": []
    },
    {
      "cell_type": "code",
      "source": [
        "#@title Train the model using the feature cross\n",
        "# The following variables are the hyperparamters\n",
        "learning_rate = 0.04\n",
        "epochs = 35\n",
        "\n",
        "# Build the model, this time passing in the feature_cross_feature_layer:\n",
        "my_model = create_model(inputs, outputs, learning_rate)\n",
        "\n",
        "# Train the model on the training set.\n",
        "epochs, rmse = train_model(my_model, train_df, epochs, batch_size, label_name)\n",
        "\n",
        "# Print out the model summary.\n",
        "my_model.summary(expand_nested=True)\n",
        "\n",
        "plot_the_loss_curve(epochs, rmse)\n",
        "\n",
        "print(\"\\n: Evaluate the new model against the test set:\")\n",
        "my_model.evaluate(x=test_features, y=test_label, batch_size=batch_size)"
      ],
      "metadata": {
        "id": "KkI2-22QnVTm",
        "outputId": "36fe776d-18df-4902-f38c-d9931ad6a391",
        "colab": {
          "base_uri": "https://localhost:8080/",
          "height": 1000
        }
      },
      "execution_count": 68,
      "outputs": [
        {
          "output_type": "stream",
          "name": "stdout",
          "text": [
            "Epoch 1/35\n",
            "170/170 [==============================] - 1s 2ms/step - loss: 53721.8828 - root_mean_squared_error: 231.7798\n",
            "Epoch 2/35\n",
            "170/170 [==============================] - 0s 2ms/step - loss: 48951.6953 - root_mean_squared_error: 221.2503\n",
            "Epoch 3/35\n",
            "170/170 [==============================] - 0s 2ms/step - loss: 44499.0352 - root_mean_squared_error: 210.9479\n",
            "Epoch 4/35\n",
            "170/170 [==============================] - 0s 2ms/step - loss: 40346.9805 - root_mean_squared_error: 200.8656\n",
            "Epoch 5/35\n",
            "170/170 [==============================] - 0s 2ms/step - loss: 36489.5703 - root_mean_squared_error: 191.0224\n",
            "Epoch 6/35\n",
            "170/170 [==============================] - 0s 2ms/step - loss: 32913.7109 - root_mean_squared_error: 181.4214\n",
            "Epoch 7/35\n",
            "170/170 [==============================] - 0s 2ms/step - loss: 29634.6074 - root_mean_squared_error: 172.1471\n",
            "Epoch 8/35\n",
            "170/170 [==============================] - 0s 2ms/step - loss: 26672.3574 - root_mean_squared_error: 163.3167\n",
            "Epoch 9/35\n",
            "170/170 [==============================] - 0s 2ms/step - loss: 23962.1348 - root_mean_squared_error: 154.7971\n",
            "Epoch 10/35\n",
            "170/170 [==============================] - 0s 2ms/step - loss: 21532.3984 - root_mean_squared_error: 146.7392\n",
            "Epoch 11/35\n",
            "170/170 [==============================] - 0s 2ms/step - loss: 19360.1133 - root_mean_squared_error: 139.1406\n",
            "Epoch 12/35\n",
            "170/170 [==============================] - 0s 2ms/step - loss: 17468.8770 - root_mean_squared_error: 132.1699\n",
            "Epoch 13/35\n",
            "170/170 [==============================] - 0s 2ms/step - loss: 15805.2236 - root_mean_squared_error: 125.7188\n",
            "Epoch 14/35\n",
            "170/170 [==============================] - 0s 2ms/step - loss: 14369.1230 - root_mean_squared_error: 119.8713\n",
            "Epoch 15/35\n",
            "170/170 [==============================] - 0s 2ms/step - loss: 13161.6152 - root_mean_squared_error: 114.7241\n",
            "Epoch 16/35\n",
            "170/170 [==============================] - 0s 2ms/step - loss: 12156.0332 - root_mean_squared_error: 110.2544\n",
            "Epoch 17/35\n",
            "170/170 [==============================] - 0s 3ms/step - loss: 11332.5498 - root_mean_squared_error: 106.4544\n",
            "Epoch 18/35\n",
            "170/170 [==============================] - 0s 3ms/step - loss: 10690.4102 - root_mean_squared_error: 103.3944\n",
            "Epoch 19/35\n",
            "170/170 [==============================] - 1s 3ms/step - loss: 10182.3506 - root_mean_squared_error: 100.9076\n",
            "Epoch 20/35\n",
            "170/170 [==============================] - 1s 4ms/step - loss: 9796.3809 - root_mean_squared_error: 98.9767\n",
            "Epoch 21/35\n",
            "170/170 [==============================] - 1s 4ms/step - loss: 9496.5049 - root_mean_squared_error: 97.4500\n",
            "Epoch 22/35\n",
            "170/170 [==============================] - 1s 4ms/step - loss: 9253.6758 - root_mean_squared_error: 96.1960\n",
            "Epoch 23/35\n",
            "170/170 [==============================] - 1s 4ms/step - loss: 9042.6328 - root_mean_squared_error: 95.0928\n",
            "Epoch 24/35\n",
            "170/170 [==============================] - 0s 2ms/step - loss: 8858.5137 - root_mean_squared_error: 94.1197\n",
            "Epoch 25/35\n",
            "170/170 [==============================] - 0s 2ms/step - loss: 8694.6895 - root_mean_squared_error: 93.2453\n",
            "Epoch 26/35\n",
            "170/170 [==============================] - 0s 2ms/step - loss: 8547.7119 - root_mean_squared_error: 92.4538\n",
            "Epoch 27/35\n",
            "170/170 [==============================] - 0s 2ms/step - loss: 8418.4707 - root_mean_squared_error: 91.7522\n",
            "Epoch 28/35\n",
            "170/170 [==============================] - 0s 2ms/step - loss: 8302.7607 - root_mean_squared_error: 91.1195\n",
            "Epoch 29/35\n",
            "170/170 [==============================] - 0s 2ms/step - loss: 8199.6895 - root_mean_squared_error: 90.5521\n",
            "Epoch 30/35\n",
            "170/170 [==============================] - 0s 2ms/step - loss: 8108.9468 - root_mean_squared_error: 90.0497\n",
            "Epoch 31/35\n",
            "170/170 [==============================] - 0s 2ms/step - loss: 8028.7427 - root_mean_squared_error: 89.6032\n",
            "Epoch 32/35\n",
            "170/170 [==============================] - 0s 2ms/step - loss: 7957.4097 - root_mean_squared_error: 89.2043\n",
            "Epoch 33/35\n",
            "170/170 [==============================] - 0s 2ms/step - loss: 7894.9849 - root_mean_squared_error: 88.8537\n",
            "Epoch 34/35\n",
            "170/170 [==============================] - 0s 2ms/step - loss: 7839.0562 - root_mean_squared_error: 88.5384\n",
            "Epoch 35/35\n",
            "170/170 [==============================] - 0s 2ms/step - loss: 7790.5571 - root_mean_squared_error: 88.2641\n",
            "Model: \"model_16\"\n",
            "__________________________________________________________________________________________________\n",
            " Layer (type)                Output Shape                 Param #   Connected to                  \n",
            "==================================================================================================\n",
            " latitude (InputLayer)       [(None, 1)]                  0         []                            \n",
            "                                                                                                  \n",
            " longitude (InputLayer)      [(None, 1)]                  0         []                            \n",
            "                                                                                                  \n",
            " discretization_latitude (D  (None, 1)                    0         ['latitude[0][0]']            \n",
            " iscretization)                                                                                   \n",
            "                                                                                                  \n",
            " discretization_longitude (  (None, 1)                    0         ['longitude[0][0]']           \n",
            " Discretization)                                                                                  \n",
            "                                                                                                  \n",
            " cross_latitude_longitude (  (None, 575)                  0         ['discretization_latitude[0][0\n",
            " HashedCrossing)                                                    ]',                           \n",
            "                                                                     'discretization_longitude[0][\n",
            "                                                                    0]']                          \n",
            "                                                                                                  \n",
            " dense_layer (Dense)         (None, 1)                    576       ['cross_latitude_longitude[0][\n",
            "                                                                    0]']                          \n",
            "                                                                                                  \n",
            "==================================================================================================\n",
            "Total params: 576 (2.25 KB)\n",
            "Trainable params: 576 (2.25 KB)\n",
            "Non-trainable params: 0 (0.00 Byte)\n",
            "__________________________________________________________________________________________________\n"
          ]
        },
        {
          "output_type": "display_data",
          "data": {
            "text/plain": [
              "<Figure size 640x480 with 1 Axes>"
            ],
            "image/png": "[encoded data removed]"
          },
          "metadata": {}
        },
        {
          "output_type": "stream",
          "name": "stdout",
          "text": [
            "\n",
            ": Evaluate the new model against the test set:\n",
            "30/30 [==============================] - 0s 2ms/step - loss: 7852.3608 - root_mean_squared_error: 88.6135\n"
          ]
        },
        {
          "output_type": "stream",
          "name": "stderr",
          "text": [
            "/usr/local/lib/python3.10/dist-packages/keras/src/engine/functional.py:642: UserWarning: Input dict contained keys ['housing_median_age', 'total_rooms', 'total_bedrooms', 'population', 'households', 'median_income'] which did not match any model input. They will be ignored by the model.\n",
            "  inputs = self._flatten_to_reference_inputs(inputs)\n"
          ]
        },
        {
          "output_type": "execute_result",
          "data": {
            "text/plain": [
              "[7852.36083984375, 88.61354064941406]"
            ]
          },
          "metadata": {},
          "execution_count": 68
        }
      ]
    },
    {
      "cell_type": "markdown",
      "source": [
        "Yes, representing these features as a feature cross produced much lower loss values than representing these features as buckets"
      ],
      "metadata": {
        "id": "3plevpsfpZWS"
      }
    }
  ]
}